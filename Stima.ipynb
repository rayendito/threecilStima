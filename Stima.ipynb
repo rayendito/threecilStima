{
 "cells": [
  {
   "cell_type": "code",
   "execution_count": 12,
   "metadata": {
    "scrolled": false
   },
   "outputs": [],
   "source": [
    "import folium\n",
    "from folium import plugins\n",
    "from folium.plugins import Fullscreen\n",
    "#print jalan\n",
    "from Graph import Graph, Simpul\n",
    "from Prioqueue import PrioQueue, Path\n",
    "from main import *\n"
   ]
  },
  {
   "cell_type": "code",
   "execution_count": 13,
   "metadata": {},
   "outputs": [],
   "source": [
    "# a = Graph(\"Alunalun.txt\")\n",
    "# listSimpul = a.getSimps()\n",
    "# adjmat = a.getAdjMat()\n",
    "\n",
    "# # A* algorithm\n",
    "# p = findPath(listSimpul[0], listSimpul[9], a)\n",
    "# finalP = p[0]\n",
    "# # Path([listSimpul[0], listSimpul[2], listSimpul[4]], 100, 50) # Testing\n",
    "\n",
    "# m=folium.Map(location=[listSimpul[0].getX(), listSimpul[0].getY()], width='100%', height='100%', zoom_start=15.5)\n",
    "# createAllMarker(listSimpul, m, \"cadetblue\", \"All Vertex\")\n",
    "# drawPathfromGraph(listSimpul, adjmat, m)\n",
    "# drawFinalPath(finalP, m, listSimpul, adjmat)\n",
    "# # Tambahkan marker untuk path final,ntar aja di main deng\n",
    "# createAllMarker(finalP.getArraySimps(), m, \"orange\", \"labelGroup\")\n",
    "# folium.LayerControl().add_to(m)\n",
    "# m\n",
    "# Add scroll Zoom toggler left bottom\n",
    "# plugins.ScrollZoomToggler().add_to(m)\n",
    "# # Add fullscreen button\n",
    "# plugins.Fullscreen(position='topright').add_to(m)"
   ]
  },
  {
   "cell_type": "code",
   "execution_count": 14,
   "metadata": {
    "scrolled": false
   },
   "outputs": [],
   "source": [
    "# from Graph import Graph\n",
    "# a = Graph(\"buahbatu.txt\")\n",
    "# a.printAdjMat()\n",
    "# a.printSimps()"
   ]
  },
  {
   "cell_type": "code",
   "execution_count": 17,
   "metadata": {},
   "outputs": [
    {
     "output_type": "display_data",
     "data": {
      "text/plain": "HBox(children=(Text(value='', description='File:', placeholder='Masukkan nama file'), Button(description='Go',…",
      "application/vnd.jupyter.widget-view+json": {
       "version_major": 2,
       "version_minor": 0,
       "model_id": "8bcbdbed4e714a3d99d9eea5e2c56a45"
      }
     },
     "metadata": {}
    },
    {
     "output_type": "display_data",
     "data": {
      "text/plain": "Output()",
      "application/vnd.jupyter.widget-view+json": {
       "version_major": 2,
       "version_minor": 0,
       "model_id": "32124b39a49b48ca9df404c3f60b66b0"
      }
     },
     "metadata": {}
    }
   ],
   "source": [
    "# GUI\n",
    "import ipywidgets as widgets\n",
    "names = []\n",
    "for i in listSimpul:\n",
    "    names.append(i.getName())\n",
    "\n",
    "#input box text file\n",
    "namaFile = widgets.Text(\n",
    "    value='',\n",
    "    placeholder='Masukkan nama file',\n",
    "    description='File:',\n",
    "    disabled=False\n",
    ")\n",
    "\n",
    "#dropdown asal\n",
    "asal = widgets.Dropdown(\n",
    "    options=names,\n",
    "    value=names[0],\n",
    "#     rows=10,\n",
    "    description='Asal :',\n",
    "    disabled=False\n",
    ")\n",
    "\n",
    "#dropdown tujuan\n",
    "tujuan = widgets.Dropdown(\n",
    "    options=names,\n",
    "    value=names[0],\n",
    "#     rows=10,\n",
    "    description='Tujuan :',\n",
    "    disabled=False\n",
    ")\n",
    "\n",
    "#go button\n",
    "go = widgets.Button(\n",
    "    description='Go',\n",
    "    disabled=False,\n",
    "    button_style='', # 'success', 'info', 'warning', 'danger' or ''\n",
    "    tooltip='Click me',\n",
    "    icon='' # (FontAwesome names without the `fa-` prefix)\n",
    ")\n",
    "\n",
    "#cancel button\n",
    "cancel = widgets.Button(\n",
    "    description='Reset',\n",
    "    disabled=False,\n",
    "    button_style='danger', # 'success', 'info', 'warning', 'danger' or ''\n",
    "    tooltip='Click me',\n",
    "    icon='' # (FontAwesome names without the `fa-` prefix)\n",
    ")\n",
    "\n",
    "#findroutebutton\n",
    "find = widgets.Button(\n",
    "    description='Find Route',\n",
    "    disabled=False,\n",
    "    button_style='success', # 'success', 'info', 'warning', 'danger' or ''\n",
    "    tooltip='Click me',\n",
    "    icon='' # (FontAwesome names without the `fa-` prefix)\n",
    ")\n",
    "\n",
    "#labels\n",
    "fileConfirm = widgets.Label(value=\"\")\n",
    "places = widgets.Label(value=\"\")\n",
    "\n",
    "#grouping\n",
    "upfile = [namaFile,go]\n",
    "whereto = [asal,tujuan,find,cancel]\n",
    "\n",
    "outputFileSelect = widgets.Output()\n",
    "outputSearch = widgets.Output()\n",
    "outputCancel = widgets.Output()\n",
    "\n",
    "def cuancel(event):\n",
    "    with outputCancel:\n",
    "        outputFileSelect.clear_output()\n",
    "        outputSearch.clear_output()\n",
    "\n",
    "def searchGo(event):\n",
    "    with outputSearch:\n",
    "        outputSearch.clear_output()\n",
    "        # outputSearch.clear_output()\n",
    "        # places.value = (\"Asal dan tujuan :  \"+asal.value+\" \"+tujuan.value)\n",
    "        # display(places)\n",
    "        a = Graph(namaFile.value)\n",
    "        listSimpul = a.getSimps()\n",
    "        adjmat = a.getAdjMat()\n",
    "\n",
    "        # A* algorithm\n",
    "        try:\n",
    "            p = findPath(getSimpulbyName(asal.value,listSimpul), getSimpulbyName(tujuan.value,listSimpul), a)\n",
    "            finalP = p[0]\n",
    "            # Path([listSimpul[0], listSimpul[2], listSimpul[4]], 100, 50) # Testing\n",
    "\n",
    "            m=folium.Map(location=[listSimpul[0].getX(), listSimpul[0].getY()], width='100%', height='100%', zoom_start=15.5)\n",
    "            createAllMarker(listSimpul, m, \"cadetblue\", \"All Vertex\")\n",
    "            drawPathfromGraph(listSimpul, adjmat, m)\n",
    "            drawFinalPath(finalP, m, listSimpul, adjmat)\n",
    "            # Tambahkan marker untuk path final,ntar aja di main deng\n",
    "            createAllMarker(finalP.getArraySimps(), m, \"orange\", \"labelGroup\")\n",
    "            folium.LayerControl().add_to(m)\n",
    "            display(m)\n",
    "        except IndexError:\n",
    "            print(\"0 m\")\n",
    "\n",
    "def fileSelect(event):\n",
    "    with outputFileSelect:\n",
    "        try:\n",
    "            outputFileSelect.clear_output()\n",
    "            a = open(namaFile.value)\n",
    "        except FileNotFoundError:\n",
    "            print(\"File tidak ditemukan, pastikan nama file benar\")\n",
    "        else:\n",
    "            display(widgets.HBox(whereto))\n",
    "            display(outputSearch)\n",
    "\n",
    "#onclicks\n",
    "go.on_click(fileSelect)\n",
    "cancel.on_click(cuancel)\n",
    "find.on_click(searchGo)\n",
    "\n",
    "#display and output\n",
    "display(widgets.HBox(upfile))\n",
    "outputFileSelect"
   ]
  },
  {
   "cell_type": "code",
   "execution_count": null,
   "metadata": {},
   "outputs": [],
   "source": []
  }
 ],
 "metadata": {
  "kernelspec": {
   "name": "python383jvsc74a57bd0aee8b7b246df8f9039afb4144a1f6fd8d2ca17a180786b69acc140d282b71a49",
   "display_name": "Python 3.8.3 64-bit"
  },
  "language_info": {
   "codemirror_mode": {
    "name": "ipython",
    "version": 3
   },
   "file_extension": ".py",
   "mimetype": "text/x-python",
   "name": "python",
   "nbconvert_exporter": "python",
   "pygments_lexer": "ipython3",
   "version": "3.8.3"
  },
  "metadata": {
   "interpreter": {
    "hash": "aee8b7b246df8f9039afb4144a1f6fd8d2ca17a180786b69acc140d282b71a49"
   }
  }
 },
 "nbformat": 4,
 "nbformat_minor": 5
}